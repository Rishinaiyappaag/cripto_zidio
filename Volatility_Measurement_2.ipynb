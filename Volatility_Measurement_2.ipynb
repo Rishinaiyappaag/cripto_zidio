{
 "cells": [
  {
   "cell_type": "code",
   "execution_count": 1,
   "id": "d78a6fa1-4964-4203-890a-12d534c5d1ca",
   "metadata": {},
   "outputs": [],
   "source": [
    "import pandas as pd\n",
    "import matplotlib.pyplot as plt\n",
    "import seaborn as sns\n",
    "import os\n",
    "from glob import glob\n",
    "import kagglehub"
   ]
  },
  {
   "cell_type": "code",
   "execution_count": null,
   "id": "29ab9cc0-232f-411b-be2d-0f48ae5e045e",
   "metadata": {},
   "outputs": [],
   "source": [
    "# Download dataset\n",
    "path = kagglehub.dataset_download(\"tr1gg3rtrash/time-series-top-100-crypto-currency-dataset\")"
   ]
  },
  {
   "cell_type": "code",
   "execution_count": null,
   "id": "2fdb433d-8e6b-486b-a4e0-0cd8261e7a53",
   "metadata": {},
   "outputs": [],
   "source": [
    "# Output folder\n",
    "output_folder = r\"D:\\crypto_out\"\n",
    "os.makedirs(output_folder, exist_ok=True)"
   ]
  },
  {
   "cell_type": "code",
   "execution_count": null,
   "id": "e82103c5-6f0a-4fe3-b8f7-bf478b838ede",
   "metadata": {},
   "outputs": [],
   "source": [
    "# Function to process and plot each file\n",
    "def process_crypto_file(file_path):\n",
    "    try:\n",
    "        df = pd.read_csv(file_path)\n",
    "        df['timestamp'] = pd.to_datetime(df['timestamp'])\n",
    "        df = df.sort_values('timestamp')\n",
    "\n",
    "        # Calculate daily returns without fill_method\n",
    "        df['daily_return'] = df['close'].pct_change(fill_method=None)\n",
    "\n",
    "        # Rolling volatility (7-day)\n",
    "        df['rolling_volatility'] = df['daily_return'].rolling(window=7).std()\n",
    "\n",
    "        # Volatility thresholds\n",
    "        high_threshold = df['rolling_volatility'].quantile(0.75)\n",
    "        low_threshold = df['rolling_volatility'].quantile(0.25)\n",
    "\n",
    "        # Label volatility levels\n",
    "        df['volatility_level'] = 'Normal'\n",
    "        df.loc[df['rolling_volatility'] >= high_threshold, 'volatility_level'] = 'High Volatility'\n",
    "        df.loc[df['rolling_volatility'] <= low_threshold, 'volatility_level'] = 'Low Volatility'\n",
    "\n",
    "        # Plotting\n",
    "        plt.figure(figsize=(16, 8))\n",
    "        sns.lineplot(data=df, x='timestamp', y='close', hue='volatility_level',\n",
    "                     palette={'High Volatility': 'red', 'Low Volatility': 'green', 'Normal': 'blue'})\n",
    "        plt.title(f\"{os.path.basename(file_path).replace('.csv', '')} Price with Volatility\")\n",
    "        plt.xlabel('Date')\n",
    "        plt.ylabel('Closing Price')\n",
    "        plt.legend(title='Volatility Level')\n",
    "        plt.grid(True)\n",
    "        plt.tight_layout()\n",
    "\n",
    "        # Save plot\n",
    "        filename = os.path.basename(file_path).replace(\".csv\", \"_volatility.png\")\n",
    "        plt.savefig(os.path.join(output_folder, filename))\n",
    "        plt.close()\n",
    "        print(f\"✅ Saved: {filename}\")\n",
    "\n",
    "    except Exception as e:\n",
    "        print(f\"❌ Error in {file_path}: {e}\")"
   ]
  },
  {
   "cell_type": "code",
   "execution_count": null,
   "id": "b3833f79-c7e1-4669-b959-3053be288d88",
   "metadata": {},
   "outputs": [],
   "source": [
    "# Process all CSVs\n",
    "all_csv_files = glob(os.path.join(path, \"*.csv\"))\n",
    "for file in all_csv_files:\n",
    "    process_crypto_file(file)"
   ]
  }
 ],
 "metadata": {
  "kernelspec": {
   "display_name": "Python 3 (ipykernel)",
   "language": "python",
   "name": "python3"
  },
  "language_info": {
   "codemirror_mode": {
    "name": "ipython",
    "version": 3
   },
   "file_extension": ".py",
   "mimetype": "text/x-python",
   "name": "python",
   "nbconvert_exporter": "python",
   "pygments_lexer": "ipython3",
   "version": "3.11.1"
  }
 },
 "nbformat": 4,
 "nbformat_minor": 5
}
